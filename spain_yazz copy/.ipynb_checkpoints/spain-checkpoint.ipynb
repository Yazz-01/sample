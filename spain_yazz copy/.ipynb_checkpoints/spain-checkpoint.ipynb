{
 "cells": [
  {
   "cell_type": "code",
   "execution_count": 1,
   "metadata": {},
   "outputs": [],
   "source": [
    "# Dependencies\n",
    "import matplotlib.pyplot as plt\n",
    "import pandas as pd\n",
    "import numpy as np\n",
    "import requests\n",
    "import json\n",
    "import re, glob\n",
    "import os, sys\n",
    "from scipy import stats\n",
    "\n",
    "import spotipy                          # Set up a config file with ckey and skey. These are available if you go\n",
    "from spotipy.oauth2 import SpotifyClientCredentials      # to https://developer.spotify.com/, click on Dashboard \n",
    "                                        # from the horizontal black menu, login with your normal user info. Click \n",
    "# Import Keys                           # on \"create an app\" if you haven't yet, it doesn't matter what you call it.\n",
    "from config import ckey, skey            # Then click into\n",
    "                                        # your project and you should see Client ID and Client Secret. Those are your \n",
    "                                        # ckey and skey. "
   ]
  },
  {
   "cell_type": "code",
   "execution_count": 2,
   "metadata": {},
   "outputs": [],
   "source": [
    "# Setting up Spotify API info\n",
    "\n",
    "# Setting up Spotify API info\n",
    "\n",
    "client_credentials_manager = SpotifyClientCredentials(client_id=ckey, client_secret=skey)\n",
    "\n",
    "sp = spotipy.Spotify(client_credentials_manager=client_credentials_manager)\n"
   ]
  },
  {
   "cell_type": "markdown",
   "metadata": {},
   "source": [
    "##TIP: This next section assumes that you have already downloaded the csv files with the Top200 charts for the country you are working on:\n",
    "\n",
    "Create a subfolder in the folder this notebook is located in called \"input_files\". Add the owid-covid-data.csv file there, you'll need that later. Then make another subfolder inside input_files called \"spotify_top200_charts\". Save the csv files you download there.\n",
    "Go to https://spotifycharts.com\n",
    "Choose the country you want to work on.\n",
    "Download Weekly Top200 charts for 2019 and 2020, 1 chart per month. We agreed as a group to download the chart from last week of each month, to keep things consistent. Save them in the \"spotify_top200_charts\" folder you set up."
   ]
  },
  {
   "cell_type": "code",
   "execution_count": null,
   "metadata": {},
   "outputs": [],
   "source": [
    "# Create dataframe from weekly chart data\n",
    "\n",
    "\n",
    "path = r\"input_files/spotify_top200_charts/*.csv\"                # The path requires \"\".csv\" at end of file name. \n",
    "                                                                 # This is to prevent the program from blowing up\n",
    "                                                                 # when it hits some kind of hidden file. \n",
    "\n",
    "country_tracks_df = pd.read_csv(glob.glob(path)[0], header=1)    # Sets up **main dataframe** with data from **FIRST** file\n",
    "string = str(glob.glob(path)[0])                                 # in the folder.\n",
    "year_month, = re.findall(r\"ly-(\\d\\d\\d\\d)-(\\d\\d)-\\d\\d\", string)   # This line extracts the year and month from the \n",
    "                                                                 # **file name**\n",
    "country_tracks_df[['Year']] = year_month[0]\n",
    "country_tracks_df[['Month']] = year_month[1]\n",
    "country_tracks_df[['yyyy-mm']] = str(year_month[0]) + \"-\" + str(year_month[1]) \n",
    "Tot_Streams1 = country_tracks_df['Streams'].sum()                # Find out total streams in FIRST file in folder.\n",
    "country_tracks_df[['Stream %']] = country_tracks_df['Streams'] / Tot_Streams1    # New column with % of streams\n",
    "\n",
    "for file in glob.glob(path)[1:]:                                 # Now that you have the dataframe set up from the \n",
    "        temp_df = pd.read_csv(file, header=1)                    # first file in the folder, this iterates through \n",
    "        string = str(file)                                       # remaining files\n",
    "        year_month, = re.findall(r\"ly-(\\d\\d\\d\\d)-(\\d\\d)-\\d\\d\", string)\n",
    "        #print (year_month)\n",
    "        Tot_Streams2 = temp_df['Streams'].sum()\n",
    "        temp_df[['Year']] = year_month[0]\n",
    "        temp_df[['Month']] = year_month[1]\n",
    "        temp_df[['yyyy-mm']] = str(year_month[0]) + \"-\" + str(year_month[1])\n",
    "        temp_df[['Stream %']] = temp_df['Streams'] / Tot_Streams2\n",
    "        country_tracks_df = pd.concat([country_tracks_df,        # Adds temperary datafame to end of main dataframe\n",
    "                                       temp_df])                 # as new rows.  ¿¿¿???? \n",
    "        \n",
    "\n",
    "                                                 \n",
    "country_tracks_df = country_tracks_df.sort_values(['Year','Month'])  # Sort the new dataframe by year and month\n",
    "\n",
    "\n",
    "\n",
    "\n",
    "                                                                 # You should get 4,800 rows (24 months x 200 \n",
    "                                                                 # tracks per month)\n",
    "country_tracks_df"
   ]
  },
  {
   "cell_type": "code",
   "execution_count": null,
   "metadata": {},
   "outputs": [],
   "source": []
  },
  {
   "cell_type": "code",
   "execution_count": null,
   "metadata": {},
   "outputs": [],
   "source": []
  },
  {
   "cell_type": "code",
   "execution_count": null,
   "metadata": {},
   "outputs": [],
   "source": []
  },
  {
   "cell_type": "code",
   "execution_count": null,
   "metadata": {},
   "outputs": [],
   "source": []
  },
  {
   "cell_type": "code",
   "execution_count": null,
   "metadata": {},
   "outputs": [],
   "source": []
  },
  {
   "cell_type": "code",
   "execution_count": null,
   "metadata": {},
   "outputs": [],
   "source": []
  },
  {
   "cell_type": "code",
   "execution_count": null,
   "metadata": {},
   "outputs": [],
   "source": []
  },
  {
   "cell_type": "code",
   "execution_count": null,
   "metadata": {},
   "outputs": [],
   "source": []
  },
  {
   "cell_type": "code",
   "execution_count": null,
   "metadata": {},
   "outputs": [],
   "source": []
  },
  {
   "cell_type": "code",
   "execution_count": null,
   "metadata": {},
   "outputs": [],
   "source": []
  },
  {
   "cell_type": "code",
   "execution_count": null,
   "metadata": {},
   "outputs": [],
   "source": []
  },
  {
   "cell_type": "code",
   "execution_count": null,
   "metadata": {},
   "outputs": [],
   "source": []
  }
 ],
 "metadata": {
  "kernelspec": {
   "display_name": "Python 3",
   "language": "python",
   "name": "python3"
  },
  "language_info": {
   "codemirror_mode": {
    "name": "ipython",
    "version": 3
   },
   "file_extension": ".py",
   "mimetype": "text/x-python",
   "name": "python",
   "nbconvert_exporter": "python",
   "pygments_lexer": "ipython3",
   "version": "3.8.5"
  }
 },
 "nbformat": 4,
 "nbformat_minor": 2
}
